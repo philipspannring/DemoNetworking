{
 "cells": [
  {
   "attachments": {},
   "cell_type": "markdown",
   "id": "00f31a45",
   "metadata": {},
   "source": [
    "# Representing Networks\n",
    "\n",
    "## Graph\n",
    "\n",
    "Mathematically a network can be represented by an undirected graph. Every node represents a computer/router/bridge/switch/modem (machine), whereas the edges represent the connection between two machines. \n",
    "\n",
    "![Graph representation of a network](https://upload.wikimedia.org/wikipedia/commons/thumb/d/d4/4x4_grid_spanning_tree.svg/220px-4x4_grid_spanning_tree.svg.png)\n",
    "\n",
    "In reality connections do not have to be _bi-directional_, neither _symmetric_. Asymmetry in this case meaning that the latency/bandwidth/energy/etc.(_cost_) from node A to B is not equal to the cost from B to A. When discussing spanning trees we will take this into consideration when looking at the adjecency and/or incedence matrix of the graph (numeric representation of arbitrary graphs)\n"
   ]
  },
  {
   "cell_type": "markdown",
   "id": "21c32cc9",
   "metadata": {},
   "source": [
    "## Communication\n",
    "\n",
    "Communication in your network is mathematically equivalent to _messages_ being passed along the graph. \n",
    "\n",
    "Lets consider an example graph:\n",
    "![width = 0.35\\linewidth](./example_necessity_for_trees.png)"
   ]
  },
  {
   "cell_type": "markdown",
   "id": "72b7bc4b",
   "metadata": {},
   "source": [
    "Consider the problem to send a message from $A$ to $E$. Similar to a real network, the machines don't know the real lay-out of the network.\n",
    "If we then want to send the message, the only thing we can do is send all the neighbours the message and tell them which node is the final destination.\n",
    "\n",
    "Since the neighbors identity is also not known at this point, it becomes evident that the cycle $ABC$ will keep duplicating the package and will keep propagating the message ad infinitum."
   ]
  },
  {
   "cell_type": "markdown",
   "id": "a58948d6",
   "metadata": {},
   "source": [
    "If we write this graph in adjecency form s.t.:\n",
    "messages incident on edge $E$ don't get passed along.\n",
    "we obtain:\n",
    "\n",
    "|   | A | B | C | D | E |\n",
    "|---|---|---|---|---|---|\n",
    "| A | 0 | 1 | 1 | 0 | 0 |\n",
    "| B | 1 | 0 | 1 | 1 | 1 |\n",
    "| C | 1 | 1 | 0 | 0 | 1 |\n",
    "| D | 0 | 1 | 0 | 0 | 0 |\n",
    "| E | 0 | 0 | 0 | 0 | 0 |\n",
    "\n",
    "On this we can perform some computations"
   ]
  },
  {
   "cell_type": "code",
   "execution_count": 1,
   "id": "1b5cd32b",
   "metadata": {},
   "outputs": [
    {
     "name": "stdout",
     "output_type": "stream",
     "text": [
      "Adjacency Matrix\n",
      "[[0 1 1 0 0]\n",
      " [1 0 1 1 1]\n",
      " [1 1 0 0 1]\n",
      " [0 1 0 0 0]\n",
      " [0 0 0 0 0]]\n",
      "\n",
      "\n",
      "Message seen by the nodes at N=1\n",
      "A B C D E\n",
      "[1. 0. 0. 0. 0.]\n",
      "messages after 8 SYNCHRONIZED transmissions\n",
      "A B C D E\n",
      "[[137. 152. 136.  76. 137.]]\n"
     ]
    }
   ],
   "source": [
    "import numpy as np\n",
    "\n",
    "A_mat = np.matrix([[0,1,1,0,0],[1, 0, 1,1,1],[1,1,0,0,1],[0,1,0,0,0],[0,0,0,0,0]])\n",
    "\n",
    "m = np.zeros(5)\n",
    "m[0]=1 #zero-indexed\n",
    "\n",
    "print(\"Adjacency Matrix\");print(A_mat);print(\"\\n\")\n",
    "print(\"Message seen by the nodes at N=1\");\n",
    "print(\"A B C D E\")\n",
    "print(m);\n",
    "\n",
    "#messages with naive/blind routing\n",
    "N = 8\n",
    "m_n = m*(A_mat**N)\n",
    "\n",
    "print(\"messages after \"+ str(N)+\" SYNCHRONIZED transmissions\")\n",
    "print(\"A B C D E\")\n",
    "print(m_n)"
   ]
  },
  {
   "cell_type": "markdown",
   "id": "ab0f4331",
   "metadata": {},
   "source": [
    "if we remove the cycles in the graph, this explosion of messages will vanish.\n",
    "A way of adding that into this graph is to say that messages cannot be send between $B$ and $C$ and since $A$ is the origin, no messages are alowed to be incident on $A$\n",
    "\n",
    "resulting in:\n",
    "\n",
    "|   | A | B | C | D | E |\n",
    "|---|---|---|---|---|---|\n",
    "| A | 1 | 1 | 1 | 0 | 0 |\n",
    "| B | 0 | 0 | 0 | 1 | 1 |\n",
    "| C | 0 | 0 | 0 | 0 | 1 |\n",
    "| D | 0 | 1 | 0 | 0 | 0 |\n",
    "| E | 0 | 0 | 0 | 0 | 0 |"
   ]
  },
  {
   "cell_type": "code",
   "execution_count": 2,
   "id": "854b5d23",
   "metadata": {},
   "outputs": [
    {
     "name": "stdout",
     "output_type": "stream",
     "text": [
      "Adjacency Matrix\n",
      "[[1 1 1 0 0]\n",
      " [0 0 0 1 1]\n",
      " [0 0 0 0 1]\n",
      " [0 1 0 0 0]\n",
      " [0 0 0 0 0]]\n",
      "\n",
      "\n",
      "Message seen by the nodes at N=1\n",
      "A B C D E\n",
      "[1 0 0 0 0]\n",
      "\n",
      "\n",
      "messages after 8 SYNCHRONIZED transmissions\n",
      "A B C D E\n",
      "[[1 4 1 4 5]]\n"
     ]
    }
   ],
   "source": [
    "import numpy as np\n",
    "\n",
    "A_mat = np.matrix([[1,1,1,0,0],[0, 0, 0,1,1],[0,0,0,0,1],[0,1,0,0,0],[0,0,0,0,0]])\n",
    "\n",
    "m = np.zeros(5, np.int8)\n",
    "m[0]=1 #zero-indexed\n",
    "\n",
    "print(\"Adjacency Matrix\");print(A_mat);print(\"\\n\")\n",
    "print(\"Message seen by the nodes at N=1\");\n",
    "print(\"A B C D E\")\n",
    "print(m); print(\"\\n\")\n",
    "\n",
    "#messages with naive/blind routing\n",
    "N = 8\n",
    "m_n = m*(A_mat**N)\n",
    "\n",
    "print(\"messages after \"+ str(N)+\" SYNCHRONIZED transmissions\")\n",
    "print(\"A B C D E\")\n",
    "print(m_n)"
   ]
  },
  {
   "cell_type": "markdown",
   "id": "114c3a82",
   "metadata": {},
   "source": [
    "We still observe that the package is duplicated, since $A$ sends the message to both $B$ and $C$.\n",
    "following the path $ACE$ we don't see any duplication, but since $B$ sends the message to both $D$ and $E$ we get a duplication. Additionally, $B$ and $D$ keep sending the message back and forth, so it gets duplicated everytime the message reaches $B$.\n",
    "\n",
    "If we further want to account for this, we can tell node $A$ not to send to node $B$ resulting in the adjacency matrix:\n",
    "\n",
    "|   | A | B | C | D | E |\n",
    "|---|---|---|---|---|---|\n",
    "| A | 1 | 0 | 1 | 0 | 0 |\n",
    "| B | 0 | 0 | 0 | 1 | 1 |\n",
    "| C | 0 | 0 | 0 | 0 | 1 |\n",
    "| D | 0 | 1 | 0 | 0 | 0 |\n",
    "| E | 0 | 0 | 0 | 0 | 0 |"
   ]
  },
  {
   "cell_type": "code",
   "execution_count": 3,
   "id": "75f819be",
   "metadata": {},
   "outputs": [
    {
     "name": "stdout",
     "output_type": "stream",
     "text": [
      "Adjacency Matrix\n",
      "[[1 0 1 0 0]\n",
      " [0 0 0 1 1]\n",
      " [0 0 0 0 1]\n",
      " [0 1 0 0 0]\n",
      " [0 0 0 0 0]]\n",
      "\n",
      "\n",
      "Message seen by the nodes at N=1\n",
      "A B C D E\n",
      "[1 0 0 0 0]\n",
      "\n",
      "\n",
      "messages after 8 SYNCHRONIZED transmissions\n",
      "A B C D E\n",
      "[[1 0 1 0 1]]\n"
     ]
    }
   ],
   "source": [
    "import numpy as np\n",
    "\n",
    "A_mat = np.matrix([[1,0,1,0,0],[0, 0, 0,1,1],[0,0,0,0,1],[0,1,0,0,0],[0,0,0,0,0]])\n",
    "\n",
    "m = np.zeros(5, np.int8)\n",
    "m[0]=1 #zero-indexed\n",
    "\n",
    "print(\"Adjacency Matrix\");print(A_mat);print(\"\\n\")\n",
    "print(\"Message seen by the nodes at N=1\");\n",
    "print(\"A B C D E\")\n",
    "print(m); print(\"\\n\")\n",
    "\n",
    "#messages with naive/blind routing\n",
    "N = 8\n",
    "m_n = m*(A_mat**N)\n",
    "\n",
    "print(\"messages after \"+ str(N)+\" SYNCHRONIZED transmissions\")\n",
    "print(\"A B C D E\")\n",
    "print(m_n)"
   ]
  },
  {
   "cell_type": "markdown",
   "id": "201ed50a",
   "metadata": {},
   "source": [
    "Now we see desired behaviour. The message goes from $A$ to $C$ to $E$, and there is not a single node that sees the message more than ones"
   ]
  },
  {
   "cell_type": "markdown",
   "id": "29df07d8",
   "metadata": {},
   "source": [
    "# Spanning Trees\n",
    "\n",
    "Since we now have a desired behaviour, i.e.,\n",
    "\n",
    "-No duplication\n",
    "\n",
    "-Message reaches destination if both nodes are on the same graph\n",
    "\n",
    "We can find a graph structure that fullfills these requirements. This structure is known as a _tree_.\n",
    "\n",
    "A tree is a graph without cycles.\n",
    "The tree we just used looks as follows:\n",
    "\n",
    "![width = 0.35\\linewidth](./example_first_spanning_trees.png)"
   ]
  },
  {
   "cell_type": "markdown",
   "id": "5082a22d",
   "metadata": {},
   "source": [
    "In addition to this tree structure we will also consider that a node will never send the message back to who it is received from. Later we will see that devices do this through means of recognizing from which socket they received the message. \n",
    "(in the previous example this was implemented for messaged from node $A$ over the path $ACE$, but was left out in path $BD$ for demonstrative purposes)\n",
    "\n",
    "Since the tree spans the entirety of the nodes of the real network's graph it is a special type of tree known as a _Spanning Tree_."
   ]
  },
  {
   "cell_type": "markdown",
   "id": "5b1c2ce9",
   "metadata": {},
   "source": [
    "# Distance-vector routing protocol\n",
    "\n",
    "The DVR-protocol used in some data networks is guaranteed to produce spanning trees. It is based on the Bellman-Ford algorithm. Modern networks use a different approach, but the general principle is very educational for understanding how to create a spanning tree, without knowing the absolute structure of the net. Consider the earlier example with costs:\n",
    "\n",
    "![width = 0.35\\linewidth](./example_tree_DVR.png)"
   ]
  },
  {
   "cell_type": "markdown",
   "id": "a6384660",
   "metadata": {},
   "source": [
    "The distance-vector routing protocol assumes that it can be known to every node what the _cost_ is to send a message to its neighbour. Additionally every node needs to have a unique name (in a real network this is the mac-address).\n",
    "\n",
    "The DVR-protocol can run asynchronous (messages are sent without a synchronized timing), but for explanative reasons it will be described as if all nodes are synchronized.\n",
    "\n",
    "step 1) initialize the cost to a neighbor, and all unknown nodes are set to $\\infty$ (for practical reasons $\\infty$ equals a big number, as to reduce computational complexity. we will use $500$)\n",
    "\n",
    "step 2) inform the neighboring node of your known cost to your neighboring nodes\n",
    "\n",
    "step 3) keep track of the cost to a node via a neighbour according to the formula: \n",
    "$\\mathcal{L}_{new}(A \\rightarrow B \\leftarrow C) = min(\\mathcal{L}_{old}(A \\rightarrow B \\rightarrow C), \\mathcal{L}_{new}(B \\rightarrow C)+\\mathcal{L}_{old}(A \\rightarrow B)$\n",
    "\n",
    "step 4) repeat step 2 to 3 until convergence (or ad infinitum)\n",
    "\n",
    "step 5) Send messages according to the shortest distance in your stored distance table."
   ]
  },
  {
   "cell_type": "markdown",
   "id": "1c52bd8a",
   "metadata": {},
   "source": [
    "![Example Of Distance Vector Routing](.\\example_worked_DVR.png)"
   ]
  },
  {
   "cell_type": "code",
   "execution_count": null,
   "id": "4d577d94",
   "metadata": {},
   "outputs": [],
   "source": []
  }
 ],
 "metadata": {
  "kernelspec": {
   "display_name": "Python 3",
   "language": "python",
   "name": "python3"
  },
  "language_info": {
   "codemirror_mode": {
    "name": "ipython",
    "version": 3
   },
   "file_extension": ".py",
   "mimetype": "text/x-python",
   "name": "python",
   "nbconvert_exporter": "python",
   "pygments_lexer": "ipython3",
   "version": "3.9.5"
  }
 },
 "nbformat": 4,
 "nbformat_minor": 5
}
